{
 "cells": [
  {
   "cell_type": "markdown",
   "id": "8239c369",
   "metadata": {},
   "source": [
    "优化我们打开文件的速率可以用"
   ]
  },
  {
   "cell_type": "code",
   "execution_count": 1,
   "id": "1e938ff5",
   "metadata": {},
   "outputs": [],
   "source": [
    "\n",
    "import os\n",
    "import pickle\n",
    "import regex as re\n",
    "import multiprocessing\n",
    "from typing import IO, Any, BinaryIO, Optional\n",
    "from collections.abc import Iterable\n",
    "from collections import defaultdict\n",
    "from jaxtyping import Float, Int\n",
    "\n",
    "import numpy.typing as npt\n",
    "import numpy as np\n",
    "import torch\n",
    "from torch import Tensor\n",
    "import math\n",
    "import json\n",
    "import torch.nn as nn\n",
    "from einops import rearrange, einsum\n",
    "import einx\n",
    "import mmap\n",
    "import heapq\n",
    "from tqdm import tqdm\n",
    "from joblib import Parallel, delayed\n",
    "from pathlib import Path\n"
   ]
  },
  {
   "cell_type": "code",
   "execution_count": null,
   "id": "8154b915",
   "metadata": {},
   "outputs": [
    {
     "ename": "NameError",
     "evalue": "name 'f' is not defined",
     "output_type": "error",
     "traceback": [
      "\u001b[0;31m---------------------------------------------------------------------------\u001b[0m",
      "\u001b[0;31mNameError\u001b[0m                                 Traceback (most recent call last)",
      "Cell \u001b[0;32mIn[2], line 1\u001b[0m\n\u001b[0;32m----> 1\u001b[0m mmapped \u001b[38;5;241m=\u001b[39m mmap\u001b[38;5;241m.\u001b[39mmmap(\u001b[43mf\u001b[49m\u001b[38;5;241m.\u001b[39mfileno(), \u001b[38;5;241m0\u001b[39m, access\u001b[38;5;241m=\u001b[39mmmap\u001b[38;5;241m.\u001b[39mACCESS_READ)\u001b[38;5;66;03m# 0默认为全部文件,其他记忆即可\u001b[39;00m\n\u001b[1;32m      2\u001b[0m mmapped\u001b[38;5;241m.\u001b[39mseek(start)\n",
      "\u001b[0;31mNameError\u001b[0m: name 'f' is not defined"
     ]
    }
   ],
   "source": [
    "          \n",
    "mmapped = mmap.mmap(f.fileno(), 0, access=mmap.ACCESS_READ)# 0默认为全部文件,其他记忆即可\n",
    "mmapped.seek(start)"
   ]
  },
  {
   "cell_type": "markdown",
   "id": "3b54c2ad",
   "metadata": {},
   "source": [
    "            # tips, re.spilt中的正则表达式加括号是为了保留被捕获的内容\n",
    "            #for ... in ... → 遍历 token\n",
    "\n",
    "            # re.escape(tok) → 转义特殊字符\n",
    "\n",
    "            # \"|\".join(...) → 用“|”连接成正则“或”模式\n",
    "\n",
    "            # 合起来 → 生成一个正则表达式，匹配任意特殊 ！！！！\n"
   ]
  },
  {
   "cell_type": "code",
   "execution_count": null,
   "id": "c4809ed3",
   "metadata": {},
   "outputs": [],
   "source": [
    "            special_cat = \"|\".join(re.escape(tok) for tok in special_tokens)"
   ]
  },
  {
   "cell_type": "markdown",
   "id": "0104e7a0",
   "metadata": {},
   "source": [
    " /# f\"{变量名}\"为标准形式，括号是为了保留特殊token，否则会被删除 "
   ]
  },
  {
   "cell_type": "code",
   "execution_count": null,
   "id": "f90e3aef",
   "metadata": {},
   "outputs": [],
   "source": [
    "sub_chunks = [s for s in re.split(f\"({special_cat})\",chunk) if s]# 此时的subchunks便是【doc，special_token_, doc,...]这样子的形式,我们还需要在里面进一步分词"
   ]
  },
  {
   "cell_type": "markdown",
   "id": "59d112ba",
   "metadata": {},
   "source": [
    "注意下面的那个返回值,首先re.finditer是个迭代器,每个捕获到的match是正则匹配对象,长<re.Match object; span=(0, 5), match='xxx'>这样, 用group函数就能把他的值调出来,外面则是表达是个列表"
   ]
  },
  {
   "cell_type": "code",
   "execution_count": null,
   "id": "4e9714d2",
   "metadata": {},
   "outputs": [],
   "source": [
    "            def tokenize_subchunk(sub_chunk:str)->list[str]:\n",
    "                PAT = r\"\"\"'(?:[sdmt]|ll|ve|re)| ?\\p{L}+| ?\\p{N}+| ?[^\\s\\p{L}\\p{N}]+|\\s+(?!\\S)|\\s+\"\"\"\n",
    "                \n",
    "                return [match.group() for match in re.finditer(PAT,sub_chunk)]"
   ]
  },
  {
   "cell_type": "markdown",
   "id": "b92a87a5",
   "metadata": {},
   "source": [
    "int() 返回 0，所以 defaultdict(int) 相当于 默认值为 0 的计数字典"
   ]
  },
  {
   "cell_type": "code",
   "execution_count": null,
   "id": "1e3312cc",
   "metadata": {},
   "outputs": [],
   "source": [
    "        freq: dict[bytes, int] = defaultdict(int)"
   ]
  }
 ],
 "metadata": {
  "kernelspec": {
   "display_name": "llm",
   "language": "python",
   "name": "python3"
  },
  "language_info": {
   "codemirror_mode": {
    "name": "ipython",
    "version": 3
   },
   "file_extension": ".py",
   "mimetype": "text/x-python",
   "name": "python",
   "nbconvert_exporter": "python",
   "pygments_lexer": "ipython3",
   "version": "3.10.18"
  }
 },
 "nbformat": 4,
 "nbformat_minor": 5
}
